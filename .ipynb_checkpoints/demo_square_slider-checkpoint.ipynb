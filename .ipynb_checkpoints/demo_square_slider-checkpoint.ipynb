{
 "cells": [
  {
   "cell_type": "code",
   "execution_count": 1,
   "metadata": {},
   "outputs": [],
   "source": [
    "from ipywidgets import interact\n",
    "import nbinteract as nbi\n",
    "import numpy as np"
   ]
  },
  {
   "cell_type": "code",
   "execution_count": 2,
   "metadata": {},
   "outputs": [
    {
     "name": "stdout",
     "output_type": "stream",
     "text": [
      "Summe aus \n",
      "[12, 234, 1, 4, -1, 34]\n",
      "-------\n",
      "284\n"
     ]
    }
   ],
   "source": [
    "import rpy2.robjects as robjects\n",
    "# preinstalled R-function sum\n",
    "rsum = robjects.r['sum']\n",
    "vec = [12,234,1,4,-1,34]\n",
    "summe=rsum(robjects.IntVector(vec))[0]\n",
    "\n",
    "print(\"Summe aus \")\n",
    "print(vec)\n",
    "print(\"-------\")\n",
    "print(summe)"
   ]
  },
  {
   "cell_type": "code",
   "execution_count": 3,
   "metadata": {},
   "outputs": [],
   "source": [
    "# laden der Funktion 'test_R_function_pileibnitz.r'\n",
    "# die hier im Online-Verzeichnis liegt\n",
    "robjects.r('''\n",
    "       source('test_R_function_pileibnitz.r')\n",
    "''');\n",
    "pifun=robjects.globalenv['test_R_function_pileibnitz'];"
   ]
  },
  {
   "cell_type": "code",
   "execution_count": 4,
   "metadata": {},
   "outputs": [
    {
     "name": "stdout",
     "output_type": "stream",
     "text": [
      "Berechne Pi aus __ Elementen\n"
     ]
    },
    {
     "data": {
      "application/vnd.jupyter.widget-view+json": {
       "model_id": "6623c9d1f2474830b85652afb40b471a",
       "version_major": 2,
       "version_minor": 0
      },
      "text/plain": [
       "interactive(children=(IntSlider(value=500, description='Elemente', max=1000, step=20), Output()), _dom_classes…"
      ]
     },
     "metadata": {},
     "output_type": "display_data"
    }
   ],
   "source": [
    "# R-Funktion muss nochmal als Py-Funktion deklariert werden\n",
    "def py_pifun(Elemente):\n",
    "    return pifun(Elemente)\n",
    "\n",
    "print(\"Berechne Pi aus __ Elementen\")\n",
    "interact(py_pifun, Elemente=(0,1000,20));\n"
   ]
  },
  {
   "cell_type": "code",
   "execution_count": 8,
   "metadata": {},
   "outputs": [
    {
     "name": "stdout",
     "output_type": "stream",
     "text": [
      "Input type of histogram [1]/[2]: 1\n",
      "wir teilen die daten in gleiche intervalle ein\n"
     ]
    }
   ],
   "source": [
    "#import getpass\n",
    "#ui = getpass.getpass()\n",
    "whichhist = input(\"Input type of histogram [1]/[2]: \")\n",
    "\n",
    "if whichhist == '1':\n",
    "    print('wir teilen die daten in gleiche intervalle ein')\n",
    "else:\n",
    "    print('wir teilen die daten in gleiche anzahl ein')  "
   ]
  }
 ],
 "metadata": {
  "kernelspec": {
   "display_name": "Python 3",
   "language": "python",
   "name": "python3"
  },
  "language_info": {
   "codemirror_mode": {
    "name": "ipython",
    "version": 3
   },
   "file_extension": ".py",
   "mimetype": "text/x-python",
   "name": "python",
   "nbconvert_exporter": "python",
   "pygments_lexer": "ipython3",
   "version": "3.7.6"
  }
 },
 "nbformat": 4,
 "nbformat_minor": 4
}
