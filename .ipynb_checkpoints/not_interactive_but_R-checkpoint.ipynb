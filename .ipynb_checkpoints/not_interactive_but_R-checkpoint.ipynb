{
 "cells": [
  {
   "cell_type": "code",
   "execution_count": 1,
   "metadata": {},
   "outputs": [],
   "source": [
    "import numpy as np\n",
    "import rpy2.robjects as robjects"
   ]
  },
  {
   "cell_type": "code",
   "execution_count": 2,
   "metadata": {},
   "outputs": [
    {
     "name": "stdout",
     "output_type": "stream",
     "text": [
      "Summe aus \n",
      "[12, 234, 1, 4, -1, 34]\n",
      "-------\n",
      "284\n"
     ]
    }
   ],
   "source": [
    "# preinstalled R-function sum\n",
    "rsum = robjects.r['sum']\n",
    "vec = [12,234,1,4,-1,34]\n",
    "summe=rsum(robjects.IntVector(vec))[0]\n",
    "\n",
    "print(\"Summe aus \")\n",
    "print(vec)\n",
    "print(\"-------\")\n",
    "print(summe)"
   ]
  },
  {
   "cell_type": "code",
   "execution_count": 3,
   "metadata": {},
   "outputs": [],
   "source": [
    "# laden der Funktion 'test_R_function_pileibnitz.r'\n",
    "# die hier im Online-Verzeichnis liegt\n",
    "robjects.r('''\n",
    "       source('test_R_function_pileibnitz.r')\n",
    "''');\n",
    "pifun=robjects.globalenv['test_R_function_pileibnitz'];"
   ]
  },
  {
   "cell_type": "code",
   "execution_count": 5,
   "metadata": {},
   "outputs": [
    {
     "name": "stdout",
     "output_type": "stream",
     "text": [
      "Number of series Elements: 200\n",
      "Berechne Pi aus 200 Elementen\n"
     ]
    },
    {
     "data": {
      "text/html": [
       "\n",
       "        <span>FloatVector with 1 elements.</span>\n",
       "        <table>\n",
       "        <tbody>\n",
       "          <tr>\n",
       "          \n",
       "            <td>\n",
       "            3.136593\n",
       "            </td>\n",
       "          \n",
       "          </tr>\n",
       "        </tbody>\n",
       "        </table>\n",
       "        "
      ],
      "text/plain": [
       "R object with classes: ('numeric',) mapped to:\n",
       "[3.136593]"
      ]
     },
     "execution_count": 5,
     "metadata": {},
     "output_type": "execute_result"
    }
   ],
   "source": [
    "number = input(\"Number of series Elements: \")\n",
    "\n",
    "print(\"Berechne Pi aus \"+str(number)+\" Elementen\")\n",
    "pifun(number)\n"
   ]
  }
 ],
 "metadata": {
  "kernelspec": {
   "display_name": "Python 3",
   "language": "python",
   "name": "python3"
  },
  "language_info": {
   "codemirror_mode": {
    "name": "ipython",
    "version": 3
   },
   "file_extension": ".py",
   "mimetype": "text/x-python",
   "name": "python",
   "nbconvert_exporter": "python",
   "pygments_lexer": "ipython3",
   "version": "3.7.6"
  }
 },
 "nbformat": 4,
 "nbformat_minor": 4
}
